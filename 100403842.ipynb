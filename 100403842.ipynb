{
 "cells": [
  {
   "cell_type": "markdown",
   "id": "154f0a5e",
   "metadata": {},
   "source": [
    "# Sumo Bouts Prediction"
   ]
  },
  {
   "cell_type": "code",
   "execution_count": 1,
   "id": "f2215b0a",
   "metadata": {},
   "outputs": [],
   "source": [
    "import numpy as np\n",
    "import pandas as pd\n",
    "import matplotlib.pyplot as plt\n",
    "import seaborn as sns\n",
    "from scipy import stats\n",
    "\n",
    "import re\n",
    "from datetime import datetime\n",
    "import os\n",
    "import glob\n",
    "from random import random\n",
    "\n",
    "\n",
    "\n",
    "\n",
    "import warnings\n",
    "warnings.simplefilter(action='ignore', category=FutureWarning)"
   ]
  },
  {
   "cell_type": "code",
   "execution_count": 2,
   "id": "d7735b85",
   "metadata": {},
   "outputs": [],
   "source": [
    "tournaments = ['hatsu', 'haru', 'natsu', 'nagoya', 'aki', 'kyushu']\n",
    "divisions = ['Makuuchi', 'Juryo', 'Makushita' 'Sandanme', 'Jonidan', 'Jonokuchi']\n",
    "# The top-division (Makuuchi) has many levels: Y, O, S, K & M\n",
    "div_codes = {'Y':1, 'O':2, 'S':3, 'K':4, 'M':5, 'J':6, 'Ms':7, 'Sd':8, 'Jd':9, 'Jk':10}\n"
   ]
  },
  {
   "cell_type": "code",
   "execution_count": 3,
   "id": "4cf8056f",
   "metadata": {},
   "outputs": [],
   "source": [
    "def parse_rank(code):\n",
    "    '''\n",
    "    given a rank code like M12e, separate the division (M),\n",
    "    rank (12) and side (e or w)\n",
    "    '''\n",
    "    pattern = r\"^([A-Za-z]{1,2})(\\d+)([ew]{1})$\"\n",
    "\n",
    "    match = re.match(pattern, code)\n",
    "    if match:\n",
    "        division = match.group(1)\n",
    "        rank = int(match.group(2))\n",
    "        side = int(match.group(3) == 'e')\n",
    "        # print(\"division = %s, rank = %d\\n\"%(division, rank))\n",
    "        if division in div_codes:\n",
    "            return (div_codes[division], rank, side)\n",
    "    \n",
    "    return (None,None,None)\n",
    "\n",
    "    \n",
    "def calculate_age(dob):\n",
    "    '''\n",
    "    Given a date of birth (e.g. 03.07.1986), return age\n",
    "    '''\n",
    "    current_date = datetime.now()\n",
    "    try:\n",
    "        birth_date = datetime.strptime(dob, '%d.%m.%Y')\n",
    "\n",
    "        days_difference = (current_date - birth_date).days\n",
    "        age = round(days_difference / 365, 2)\n",
    "        return age\n",
    "    \n",
    "    except BaseException:\n",
    "        # dob not in the correct format\n",
    "        raise ValueError(\"Incorrect date of birth\")\n",
    "\n",
    "        \n",
    "def list_text_files(directory):\n",
    "    '''\n",
    "    list all the text files in a directory\n",
    "    '''\n",
    "    # Create the file path pattern to match text files\n",
    "    file_pattern = os.path.join(directory, \"*.txt\")\n",
    "\n",
    "    # Use glob to find all matching file paths\n",
    "    text_files = glob.glob(file_pattern)\n",
    "\n",
    "    return text_files\n"
   ]
  },
  {
   "cell_type": "code",
   "execution_count": 4,
   "id": "2bebd302",
   "metadata": {},
   "outputs": [
    {
     "data": {
      "text/plain": [
       "(5, 12, 0)"
      ]
     },
     "execution_count": 4,
     "metadata": {},
     "output_type": "execute_result"
    }
   ],
   "source": [
    "parse_rank('M12w')"
   ]
  },
  {
   "cell_type": "code",
   "execution_count": 5,
   "id": "ad216d02",
   "metadata": {},
   "outputs": [
    {
     "name": "stdout",
     "output_type": "stream",
     "text": [
      "37.17\n"
     ]
    }
   ],
   "source": [
    "dob = '03.07.1986'\n",
    "age = calculate_age(dob)\n",
    "print(age)\n"
   ]
  },
  {
   "cell_type": "code",
   "execution_count": 6,
   "id": "a18d350a",
   "metadata": {},
   "outputs": [
    {
     "data": {
      "text/plain": [
       "79"
      ]
     },
     "execution_count": 6,
     "metadata": {},
     "output_type": "execute_result"
    }
   ],
   "source": [
    "len(list_text_files('/Users/saumyaranjanpanigrahi/Desktop/Dissertation/Data Set/datasumo/torikumi/2020/'))"
   ]
  },
  {
   "cell_type": "markdown",
   "id": "39e0959b",
   "metadata": {},
   "source": [
    "## Load the Datasets\n",
    "The ranking information is available in the 'Banzuke' folder. It also has the name, D.O.B, height, weight, stable (training team/gym) & place of the wrestler.\n",
    "\n",
    "The bouts info is present in the 'Torikumi' folder. Each row list two players (their ranks, names, fighting record) & the winning technique. The winning wrestler is always listed first!\n",
    "\n",
    "We have to merge both the datasets (banzuke & torikumi) to create our final dataset!"
   ]
  },
  {
   "cell_type": "code",
   "execution_count": 7,
   "id": "5d5834fa",
   "metadata": {},
   "outputs": [],
   "source": [
    "# the root directory of the dataset \n",
    "root_dir = '/Users/saumyaranjanpanigrahi/Desktop/Dissertation/Data Set/datasumo'\n"
   ]
  },
  {
   "cell_type": "code",
   "execution_count": 8,
   "id": "3b849bed",
   "metadata": {},
   "outputs": [],
   "source": [
    "def merge_info(p1, p2, label):\n",
    "    '''\n",
    "    merge the info of two wrestlers.\n",
    "    p1 & p2 are two dictionaries\n",
    "    label is 1 is p1 wins & 0 if p1 loses\n",
    "    '''\n",
    "    p = {\n",
    "        'p1_division': p1['division'],\n",
    "        'p1_rank_in_division': p1['rank_in_division'],\n",
    "        'p1_eside': p1['eside'],\n",
    "        'p1_name': p1['name'],\n",
    "        'p1_place': p1['place'],\n",
    "        'p1_stable': p1['stable'],\n",
    "        'p1_age': p1['age'],\n",
    "        'p1_height': p1['height'],\n",
    "        'p1_weight': p1['weight'],\n",
    "        'p1_streak': p1['streak'],\n",
    "        'p2_division': p2['division'],\n",
    "        'p2_rank_in_division': p2['rank_in_division'],\n",
    "        'p2_eside': p2['eside'],\n",
    "        'p2_name': p2['name'],\n",
    "        'p2_place': p2['place'],\n",
    "        'p2_stable': p2['stable'],\n",
    "        'p2_age': p2['age'],\n",
    "        'p2_height': p2['height'],\n",
    "        'p2_weight': p2['weight'],\n",
    "        'p2_streak': p2['streak'],\n",
    "        'p1_won': label\n",
    "    }\n",
    "    \n",
    "    return p\n"
   ]
  },
  {
   "cell_type": "code",
   "execution_count": 9,
   "id": "a389814c",
   "metadata": {},
   "outputs": [],
   "source": [
    "# list of all bouts\n",
    "bouts_data = []\n",
    "\n",
    "# consider years from 2002 to 2023\n",
    "for current_year in range(2002, 2024):\n",
    "\n",
    "    # the rank list (banzuke) for the current year\n",
    "    banzuke = {}\n",
    "\n",
    "    # read the current year banzuke (ranking) for various tournaments\n",
    "    for idx, venue in enumerate(tournaments):\n",
    "        month = 2*idx + 1\n",
    "        file_path = os.path.join(root_dir, 'banzuke', str(current_year),\n",
    "                                str(current_year) + '_' + str(month).zfill(2) + '_' + venue + '.txt')\n",
    "\n",
    "        # check whether the file exists\n",
    "        if not os.path.exists(file_path): continue\n",
    "\n",
    "        # read the contents of the banzuke file\n",
    "        with open(file_path) as fin:\n",
    "            # map a wrestler rank to their age, height, weight etc. \n",
    "            wrestler_info = {}\n",
    "\n",
    "            for line in fin:\n",
    "                # check for mal-formatted lines & header lines\n",
    "                if len(line.split()) != 7: continue\n",
    "\n",
    "                # split the lines into 7 values\n",
    "                (code, name, place, stable, \n",
    "                     dob, height, weight) = line.strip().split()\n",
    "\n",
    "                # split the code (first column) into division, rank & side\n",
    "                (div, rank_in_div, e_side) = parse_rank(code)\n",
    "\n",
    "                # skip if invalid rank\n",
    "                if div is None: continue\n",
    "\n",
    "                # watch out for ValueError when converting string to integers\n",
    "                age = None\n",
    "                try:\n",
    "                    # convert dob to age\n",
    "                    age = calculate_age(dob)\n",
    "\n",
    "                    # convert height & weight to integers\n",
    "                    height = int(height)\n",
    "                    weight = int(weight)\n",
    "\n",
    "                except ValueError:\n",
    "                    # ignore this line & move to next \n",
    "                    continue\n",
    "\n",
    "                wrestler_info[code] = {\n",
    "                    'division': div,\n",
    "                    'rank_in_division': rank_in_div,\n",
    "                    'eside': e_side,\n",
    "                    'name': name,\n",
    "                    'place': place,\n",
    "                    'stable': stable,\n",
    "                    'age': age,\n",
    "                    'height': height,\n",
    "                    'weight': weight,\n",
    "                }\n",
    "\n",
    "            # keep rank list of wrestlers in each tournament\n",
    "            banzuke[venue] = wrestler_info\n",
    "\n",
    "            \n",
    "    # Read Torikumi files once the Banzuke is read for the current year\n",
    "    torikumi_dir_path = os.path.join(root_dir, 'torikumi', str(current_year))\n",
    "\n",
    "    # for each file in the directory for the current year\n",
    "    for torikumi_file in list_text_files(torikumi_dir_path):\n",
    "        # read the file\n",
    "        with open(torikumi_file) as fin:  \n",
    "\n",
    "            # get the venue from the file name\n",
    "            venue = torikumi_file.split('_')[2].strip()\n",
    "\n",
    "            for line in fin:\n",
    "                # check for mal-formatted lines & header lines\n",
    "                if len(line.split()) != 7: continue\n",
    "\n",
    "                # split the lines into 7 values\n",
    "                (p1_code, p1_name, p1_streak, submission, \n",
    "                     p2_code, p2_name, p2_streak) = line.strip().split()\n",
    "\n",
    "                p1 = banzuke[venue].get(p1_code)\n",
    "                p2 = banzuke[venue].get(p2_code)\n",
    "\n",
    "                # make sure both p1 & p2 are present in banzuke\n",
    "                if (p1 is None or p2 is None): continue\n",
    "                    \n",
    "                # make sure both p1 & p2 are from the top division \n",
    "                if p1['division'] > 5 or p2['division'] > 5: continue\n",
    "                \n",
    "                # Add streak info to both p1 & p2\n",
    "                p1['streak'] = eval(p1_streak) - 1\n",
    "                p2['streak'] = eval(p2_streak) + 1\n",
    "                \n",
    "                # p1 beats p2; but let's change the order half of the time \n",
    "                # this ensures a balanced two class dataset.\n",
    "                if random() < 0.5:\n",
    "                    bouts_data.append(merge_info(p1, p2, 1))\n",
    "                else:\n",
    "                    bouts_data.append(merge_info(p2, p1, 0))\n",
    "\n",
    "\n"
   ]
  },
  {
   "cell_type": "code",
   "execution_count": 10,
   "id": "22d391c8",
   "metadata": {},
   "outputs": [],
   "source": [
    "# convert into a dataframe\n",
    "df = pd.DataFrame(bouts_data)\n",
    "\n",
    "# save to a csv file\n",
    "out_file = os.path.join(root_dir, 'sumo_bouts_data.csv')\n",
    "df.to_csv(out_file, index=False)\n"
   ]
  },
  {
   "cell_type": "markdown",
   "id": "cbdda35e",
   "metadata": {},
   "source": [
    "## Prepare the Dataset\n",
    "\n",
    "Removing unwanted columns & perform train-test splitting.\n",
    "\n"
   ]
  },
  {
   "cell_type": "code",
   "execution_count": 11,
   "id": "d81e6814",
   "metadata": {},
   "outputs": [
    {
     "data": {
      "text/html": [
       "<div>\n",
       "<style scoped>\n",
       "    .dataframe tbody tr th:only-of-type {\n",
       "        vertical-align: middle;\n",
       "    }\n",
       "\n",
       "    .dataframe tbody tr th {\n",
       "        vertical-align: top;\n",
       "    }\n",
       "\n",
       "    .dataframe thead th {\n",
       "        text-align: right;\n",
       "    }\n",
       "</style>\n",
       "<table border=\"1\" class=\"dataframe\">\n",
       "  <thead>\n",
       "    <tr style=\"text-align: right;\">\n",
       "      <th></th>\n",
       "      <th>p1_division</th>\n",
       "      <th>p1_rank_in_division</th>\n",
       "      <th>p1_eside</th>\n",
       "      <th>p1_name</th>\n",
       "      <th>p1_place</th>\n",
       "      <th>p1_stable</th>\n",
       "      <th>p1_age</th>\n",
       "      <th>p1_height</th>\n",
       "      <th>p1_weight</th>\n",
       "      <th>p1_streak</th>\n",
       "      <th>...</th>\n",
       "      <th>p2_rank_in_division</th>\n",
       "      <th>p2_eside</th>\n",
       "      <th>p2_name</th>\n",
       "      <th>p2_place</th>\n",
       "      <th>p2_stable</th>\n",
       "      <th>p2_age</th>\n",
       "      <th>p2_height</th>\n",
       "      <th>p2_weight</th>\n",
       "      <th>p2_streak</th>\n",
       "      <th>p1_won</th>\n",
       "    </tr>\n",
       "  </thead>\n",
       "  <tbody>\n",
       "    <tr>\n",
       "      <th>0</th>\n",
       "      <td>5</td>\n",
       "      <td>10</td>\n",
       "      <td>0</td>\n",
       "      <td>Chiyotenzan</td>\n",
       "      <td>Osaka</td>\n",
       "      <td>Kokonoe</td>\n",
       "      <td>47.58</td>\n",
       "      <td>184</td>\n",
       "      <td>142</td>\n",
       "      <td>-5</td>\n",
       "      <td>...</td>\n",
       "      <td>15</td>\n",
       "      <td>0</td>\n",
       "      <td>Asanowaka</td>\n",
       "      <td>Aichi</td>\n",
       "      <td>Takasago</td>\n",
       "      <td>53.74</td>\n",
       "      <td>176</td>\n",
       "      <td>136</td>\n",
       "      <td>-1</td>\n",
       "      <td>1</td>\n",
       "    </tr>\n",
       "    <tr>\n",
       "      <th>1</th>\n",
       "      <td>5</td>\n",
       "      <td>13</td>\n",
       "      <td>1</td>\n",
       "      <td>Oikari</td>\n",
       "      <td>Kyoto</td>\n",
       "      <td>Isenoumi</td>\n",
       "      <td>51.22</td>\n",
       "      <td>176</td>\n",
       "      <td>133</td>\n",
       "      <td>-1</td>\n",
       "      <td>...</td>\n",
       "      <td>7</td>\n",
       "      <td>1</td>\n",
       "      <td>Otsukasa</td>\n",
       "      <td>Hyogo</td>\n",
       "      <td>Irumagawa</td>\n",
       "      <td>52.55</td>\n",
       "      <td>174</td>\n",
       "      <td>147</td>\n",
       "      <td>-1</td>\n",
       "      <td>0</td>\n",
       "    </tr>\n",
       "    <tr>\n",
       "      <th>2</th>\n",
       "      <td>5</td>\n",
       "      <td>7</td>\n",
       "      <td>0</td>\n",
       "      <td>Wakanoyama</td>\n",
       "      <td>Wakayama</td>\n",
       "      <td>Musashigawa</td>\n",
       "      <td>51.32</td>\n",
       "      <td>177</td>\n",
       "      <td>160</td>\n",
       "      <td>-1</td>\n",
       "      <td>...</td>\n",
       "      <td>12</td>\n",
       "      <td>1</td>\n",
       "      <td>Hamanishiki</td>\n",
       "      <td>Kumamoto</td>\n",
       "      <td>Oitekaze</td>\n",
       "      <td>46.78</td>\n",
       "      <td>181</td>\n",
       "      <td>126</td>\n",
       "      <td>-3</td>\n",
       "      <td>0</td>\n",
       "    </tr>\n",
       "    <tr>\n",
       "      <th>3</th>\n",
       "      <td>5</td>\n",
       "      <td>4</td>\n",
       "      <td>1</td>\n",
       "      <td>Daizen</td>\n",
       "      <td>Osaka</td>\n",
       "      <td>Nishonoseki</td>\n",
       "      <td>58.73</td>\n",
       "      <td>188</td>\n",
       "      <td>156</td>\n",
       "      <td>-5</td>\n",
       "      <td>...</td>\n",
       "      <td>5</td>\n",
       "      <td>0</td>\n",
       "      <td>Tamakasuga</td>\n",
       "      <td>Ehime</td>\n",
       "      <td>Kataonami</td>\n",
       "      <td>51.66</td>\n",
       "      <td>183</td>\n",
       "      <td>151</td>\n",
       "      <td>-5</td>\n",
       "      <td>0</td>\n",
       "    </tr>\n",
       "    <tr>\n",
       "      <th>4</th>\n",
       "      <td>5</td>\n",
       "      <td>4</td>\n",
       "      <td>1</td>\n",
       "      <td>Takamisakari</td>\n",
       "      <td>Aomori</td>\n",
       "      <td>Azumazeki</td>\n",
       "      <td>47.32</td>\n",
       "      <td>189</td>\n",
       "      <td>134</td>\n",
       "      <td>0</td>\n",
       "      <td>...</td>\n",
       "      <td>7</td>\n",
       "      <td>1</td>\n",
       "      <td>Toki</td>\n",
       "      <td>Chiba</td>\n",
       "      <td>Takasago</td>\n",
       "      <td>49.17</td>\n",
       "      <td>190</td>\n",
       "      <td>174</td>\n",
       "      <td>0</td>\n",
       "      <td>1</td>\n",
       "    </tr>\n",
       "    <tr>\n",
       "      <th>5</th>\n",
       "      <td>5</td>\n",
       "      <td>3</td>\n",
       "      <td>0</td>\n",
       "      <td>Tamanoshima</td>\n",
       "      <td>Fukushima</td>\n",
       "      <td>Kataonami</td>\n",
       "      <td>45.97</td>\n",
       "      <td>188</td>\n",
       "      <td>149</td>\n",
       "      <td>-2</td>\n",
       "      <td>...</td>\n",
       "      <td>6</td>\n",
       "      <td>0</td>\n",
       "      <td>Kotoryu</td>\n",
       "      <td>Hyogo</td>\n",
       "      <td>Sadogatake</td>\n",
       "      <td>51.51</td>\n",
       "      <td>183</td>\n",
       "      <td>143</td>\n",
       "      <td>-2</td>\n",
       "      <td>0</td>\n",
       "    </tr>\n",
       "    <tr>\n",
       "      <th>6</th>\n",
       "      <td>5</td>\n",
       "      <td>3</td>\n",
       "      <td>1</td>\n",
       "      <td>Tamakasuga</td>\n",
       "      <td>Ehime</td>\n",
       "      <td>Kataonami</td>\n",
       "      <td>51.66</td>\n",
       "      <td>183</td>\n",
       "      <td>151</td>\n",
       "      <td>-2</td>\n",
       "      <td>...</td>\n",
       "      <td>1</td>\n",
       "      <td>1</td>\n",
       "      <td>Musashimaru</td>\n",
       "      <td>U.S.A.</td>\n",
       "      <td>Musashigawa</td>\n",
       "      <td>52.35</td>\n",
       "      <td>192</td>\n",
       "      <td>227</td>\n",
       "      <td>2</td>\n",
       "      <td>0</td>\n",
       "    </tr>\n",
       "    <tr>\n",
       "      <th>7</th>\n",
       "      <td>5</td>\n",
       "      <td>15</td>\n",
       "      <td>0</td>\n",
       "      <td>Asanowaka</td>\n",
       "      <td>Aichi</td>\n",
       "      <td>Takasago</td>\n",
       "      <td>53.74</td>\n",
       "      <td>176</td>\n",
       "      <td>136</td>\n",
       "      <td>-1</td>\n",
       "      <td>...</td>\n",
       "      <td>12</td>\n",
       "      <td>1</td>\n",
       "      <td>Hamanishiki</td>\n",
       "      <td>Kumamoto</td>\n",
       "      <td>Oitekaze</td>\n",
       "      <td>46.78</td>\n",
       "      <td>181</td>\n",
       "      <td>126</td>\n",
       "      <td>1</td>\n",
       "      <td>1</td>\n",
       "    </tr>\n",
       "    <tr>\n",
       "      <th>8</th>\n",
       "      <td>5</td>\n",
       "      <td>12</td>\n",
       "      <td>0</td>\n",
       "      <td>Buyuzan</td>\n",
       "      <td>Aichi</td>\n",
       "      <td>Musashigawa</td>\n",
       "      <td>49.10</td>\n",
       "      <td>181</td>\n",
       "      <td>160</td>\n",
       "      <td>1</td>\n",
       "      <td>...</td>\n",
       "      <td>11</td>\n",
       "      <td>0</td>\n",
       "      <td>Tamanoshima</td>\n",
       "      <td>Fukushima</td>\n",
       "      <td>Kataonami</td>\n",
       "      <td>45.97</td>\n",
       "      <td>188</td>\n",
       "      <td>149</td>\n",
       "      <td>1</td>\n",
       "      <td>0</td>\n",
       "    </tr>\n",
       "    <tr>\n",
       "      <th>9</th>\n",
       "      <td>5</td>\n",
       "      <td>7</td>\n",
       "      <td>1</td>\n",
       "      <td>Otsukasa</td>\n",
       "      <td>Hyogo</td>\n",
       "      <td>Irumagawa</td>\n",
       "      <td>52.55</td>\n",
       "      <td>174</td>\n",
       "      <td>147</td>\n",
       "      <td>-3</td>\n",
       "      <td>...</td>\n",
       "      <td>8</td>\n",
       "      <td>1</td>\n",
       "      <td>Kotoryu</td>\n",
       "      <td>Hyogo</td>\n",
       "      <td>Sadogatake</td>\n",
       "      <td>51.51</td>\n",
       "      <td>183</td>\n",
       "      <td>143</td>\n",
       "      <td>1</td>\n",
       "      <td>1</td>\n",
       "    </tr>\n",
       "  </tbody>\n",
       "</table>\n",
       "<p>10 rows × 21 columns</p>\n",
       "</div>"
      ],
      "text/plain": [
       "   p1_division  p1_rank_in_division  p1_eside       p1_name   p1_place  \\\n",
       "0            5                   10         0   Chiyotenzan      Osaka   \n",
       "1            5                   13         1        Oikari      Kyoto   \n",
       "2            5                    7         0    Wakanoyama   Wakayama   \n",
       "3            5                    4         1        Daizen      Osaka   \n",
       "4            5                    4         1  Takamisakari     Aomori   \n",
       "5            5                    3         0   Tamanoshima  Fukushima   \n",
       "6            5                    3         1    Tamakasuga      Ehime   \n",
       "7            5                   15         0     Asanowaka      Aichi   \n",
       "8            5                   12         0       Buyuzan      Aichi   \n",
       "9            5                    7         1      Otsukasa      Hyogo   \n",
       "\n",
       "     p1_stable  p1_age  p1_height  p1_weight  p1_streak  ...  \\\n",
       "0      Kokonoe   47.58        184        142         -5  ...   \n",
       "1     Isenoumi   51.22        176        133         -1  ...   \n",
       "2  Musashigawa   51.32        177        160         -1  ...   \n",
       "3  Nishonoseki   58.73        188        156         -5  ...   \n",
       "4    Azumazeki   47.32        189        134          0  ...   \n",
       "5    Kataonami   45.97        188        149         -2  ...   \n",
       "6    Kataonami   51.66        183        151         -2  ...   \n",
       "7     Takasago   53.74        176        136         -1  ...   \n",
       "8  Musashigawa   49.10        181        160          1  ...   \n",
       "9    Irumagawa   52.55        174        147         -3  ...   \n",
       "\n",
       "   p2_rank_in_division  p2_eside      p2_name   p2_place    p2_stable p2_age  \\\n",
       "0                   15         0    Asanowaka      Aichi     Takasago  53.74   \n",
       "1                    7         1     Otsukasa      Hyogo    Irumagawa  52.55   \n",
       "2                   12         1  Hamanishiki   Kumamoto     Oitekaze  46.78   \n",
       "3                    5         0   Tamakasuga      Ehime    Kataonami  51.66   \n",
       "4                    7         1         Toki      Chiba     Takasago  49.17   \n",
       "5                    6         0      Kotoryu      Hyogo   Sadogatake  51.51   \n",
       "6                    1         1  Musashimaru     U.S.A.  Musashigawa  52.35   \n",
       "7                   12         1  Hamanishiki   Kumamoto     Oitekaze  46.78   \n",
       "8                   11         0  Tamanoshima  Fukushima    Kataonami  45.97   \n",
       "9                    8         1      Kotoryu      Hyogo   Sadogatake  51.51   \n",
       "\n",
       "   p2_height  p2_weight  p2_streak  p1_won  \n",
       "0        176        136         -1       1  \n",
       "1        174        147         -1       0  \n",
       "2        181        126         -3       0  \n",
       "3        183        151         -5       0  \n",
       "4        190        174          0       1  \n",
       "5        183        143         -2       0  \n",
       "6        192        227          2       0  \n",
       "7        181        126          1       1  \n",
       "8        188        149          1       0  \n",
       "9        183        143          1       1  \n",
       "\n",
       "[10 rows x 21 columns]"
      ]
     },
     "execution_count": 11,
     "metadata": {},
     "output_type": "execute_result"
    }
   ],
   "source": [
    "# read the dataset\n",
    "df = pd.read_csv(out_file)\n",
    "df.head(10)\n"
   ]
  },
  {
   "cell_type": "code",
   "execution_count": 12,
   "id": "56480438",
   "metadata": {},
   "outputs": [
    {
     "data": {
      "text/html": [
       "<div>\n",
       "<style scoped>\n",
       "    .dataframe tbody tr th:only-of-type {\n",
       "        vertical-align: middle;\n",
       "    }\n",
       "\n",
       "    .dataframe tbody tr th {\n",
       "        vertical-align: top;\n",
       "    }\n",
       "\n",
       "    .dataframe thead th {\n",
       "        text-align: right;\n",
       "    }\n",
       "</style>\n",
       "<table border=\"1\" class=\"dataframe\">\n",
       "  <thead>\n",
       "    <tr style=\"text-align: right;\">\n",
       "      <th></th>\n",
       "      <th>p1_division</th>\n",
       "      <th>p1_rank_in_division</th>\n",
       "      <th>p1_eside</th>\n",
       "      <th>p1_age</th>\n",
       "      <th>p1_height</th>\n",
       "      <th>p1_weight</th>\n",
       "      <th>p1_streak</th>\n",
       "      <th>p2_division</th>\n",
       "      <th>p2_rank_in_division</th>\n",
       "      <th>p2_eside</th>\n",
       "      <th>p2_age</th>\n",
       "      <th>p2_height</th>\n",
       "      <th>p2_weight</th>\n",
       "      <th>p2_streak</th>\n",
       "      <th>p1_won</th>\n",
       "    </tr>\n",
       "  </thead>\n",
       "  <tbody>\n",
       "    <tr>\n",
       "      <th>0</th>\n",
       "      <td>5</td>\n",
       "      <td>10</td>\n",
       "      <td>0</td>\n",
       "      <td>47.58</td>\n",
       "      <td>184</td>\n",
       "      <td>142</td>\n",
       "      <td>-5</td>\n",
       "      <td>5</td>\n",
       "      <td>15</td>\n",
       "      <td>0</td>\n",
       "      <td>53.74</td>\n",
       "      <td>176</td>\n",
       "      <td>136</td>\n",
       "      <td>-1</td>\n",
       "      <td>1</td>\n",
       "    </tr>\n",
       "    <tr>\n",
       "      <th>1</th>\n",
       "      <td>5</td>\n",
       "      <td>13</td>\n",
       "      <td>1</td>\n",
       "      <td>51.22</td>\n",
       "      <td>176</td>\n",
       "      <td>133</td>\n",
       "      <td>-1</td>\n",
       "      <td>5</td>\n",
       "      <td>7</td>\n",
       "      <td>1</td>\n",
       "      <td>52.55</td>\n",
       "      <td>174</td>\n",
       "      <td>147</td>\n",
       "      <td>-1</td>\n",
       "      <td>0</td>\n",
       "    </tr>\n",
       "    <tr>\n",
       "      <th>2</th>\n",
       "      <td>5</td>\n",
       "      <td>7</td>\n",
       "      <td>0</td>\n",
       "      <td>51.32</td>\n",
       "      <td>177</td>\n",
       "      <td>160</td>\n",
       "      <td>-1</td>\n",
       "      <td>5</td>\n",
       "      <td>12</td>\n",
       "      <td>1</td>\n",
       "      <td>46.78</td>\n",
       "      <td>181</td>\n",
       "      <td>126</td>\n",
       "      <td>-3</td>\n",
       "      <td>0</td>\n",
       "    </tr>\n",
       "    <tr>\n",
       "      <th>3</th>\n",
       "      <td>5</td>\n",
       "      <td>4</td>\n",
       "      <td>1</td>\n",
       "      <td>58.73</td>\n",
       "      <td>188</td>\n",
       "      <td>156</td>\n",
       "      <td>-5</td>\n",
       "      <td>5</td>\n",
       "      <td>5</td>\n",
       "      <td>0</td>\n",
       "      <td>51.66</td>\n",
       "      <td>183</td>\n",
       "      <td>151</td>\n",
       "      <td>-5</td>\n",
       "      <td>0</td>\n",
       "    </tr>\n",
       "    <tr>\n",
       "      <th>4</th>\n",
       "      <td>5</td>\n",
       "      <td>4</td>\n",
       "      <td>1</td>\n",
       "      <td>47.32</td>\n",
       "      <td>189</td>\n",
       "      <td>134</td>\n",
       "      <td>0</td>\n",
       "      <td>5</td>\n",
       "      <td>7</td>\n",
       "      <td>1</td>\n",
       "      <td>49.17</td>\n",
       "      <td>190</td>\n",
       "      <td>174</td>\n",
       "      <td>0</td>\n",
       "      <td>1</td>\n",
       "    </tr>\n",
       "  </tbody>\n",
       "</table>\n",
       "</div>"
      ],
      "text/plain": [
       "   p1_division  p1_rank_in_division  p1_eside  p1_age  p1_height  p1_weight  \\\n",
       "0            5                   10         0   47.58        184        142   \n",
       "1            5                   13         1   51.22        176        133   \n",
       "2            5                    7         0   51.32        177        160   \n",
       "3            5                    4         1   58.73        188        156   \n",
       "4            5                    4         1   47.32        189        134   \n",
       "\n",
       "   p1_streak  p2_division  p2_rank_in_division  p2_eside  p2_age  p2_height  \\\n",
       "0         -5            5                   15         0   53.74        176   \n",
       "1         -1            5                    7         1   52.55        174   \n",
       "2         -1            5                   12         1   46.78        181   \n",
       "3         -5            5                    5         0   51.66        183   \n",
       "4          0            5                    7         1   49.17        190   \n",
       "\n",
       "   p2_weight  p2_streak  p1_won  \n",
       "0        136         -1       1  \n",
       "1        147         -1       0  \n",
       "2        126         -3       0  \n",
       "3        151         -5       0  \n",
       "4        174          0       1  "
      ]
     },
     "execution_count": 12,
     "metadata": {},
     "output_type": "execute_result"
    }
   ],
   "source": [
    "# let's keep only numeric columns.\n",
    "df.drop(columns=['p1_name', 'p1_place', 'p1_stable',\n",
    "              'p2_name', 'p2_place', 'p2_stable'], axis=1, inplace=True)\n",
    "\n",
    "\n",
    "df.head()\n"
   ]
  },
  {
   "cell_type": "markdown",
   "id": "32431775",
   "metadata": {},
   "source": [
    "### Normalize Data\n",
    "Dividing each column by the maximum magnitue of its values"
   ]
  },
  {
   "cell_type": "code",
   "execution_count": 13,
   "id": "db15c38a",
   "metadata": {},
   "outputs": [
    {
     "data": {
      "text/plain": [
       "p1_division              5.00\n",
       "p1_rank_in_division     18.00\n",
       "p1_eside                 1.00\n",
       "p1_age                  58.73\n",
       "p1_height              203.00\n",
       "p1_weight              227.00\n",
       "p1_streak               14.00\n",
       "p2_division              5.00\n",
       "p2_rank_in_division     18.00\n",
       "p2_eside                 1.00\n",
       "p2_age                  58.73\n",
       "p2_height              203.00\n",
       "p2_weight              227.00\n",
       "p2_streak               14.00\n",
       "p1_won                   1.00\n",
       "dtype: float64"
      ]
     },
     "execution_count": 13,
     "metadata": {},
     "output_type": "execute_result"
    }
   ],
   "source": [
    "df_max_values = np.max(df, axis=0)\n",
    "df_max_values\n"
   ]
  },
  {
   "cell_type": "code",
   "execution_count": 14,
   "id": "a0935d7b",
   "metadata": {},
   "outputs": [
    {
     "data": {
      "text/html": [
       "<div>\n",
       "<style scoped>\n",
       "    .dataframe tbody tr th:only-of-type {\n",
       "        vertical-align: middle;\n",
       "    }\n",
       "\n",
       "    .dataframe tbody tr th {\n",
       "        vertical-align: top;\n",
       "    }\n",
       "\n",
       "    .dataframe thead th {\n",
       "        text-align: right;\n",
       "    }\n",
       "</style>\n",
       "<table border=\"1\" class=\"dataframe\">\n",
       "  <thead>\n",
       "    <tr style=\"text-align: right;\">\n",
       "      <th></th>\n",
       "      <th>p1_division</th>\n",
       "      <th>p1_rank_in_division</th>\n",
       "      <th>p1_eside</th>\n",
       "      <th>p1_age</th>\n",
       "      <th>p1_height</th>\n",
       "      <th>p1_weight</th>\n",
       "      <th>p1_streak</th>\n",
       "      <th>p2_division</th>\n",
       "      <th>p2_rank_in_division</th>\n",
       "      <th>p2_eside</th>\n",
       "      <th>p2_age</th>\n",
       "      <th>p2_height</th>\n",
       "      <th>p2_weight</th>\n",
       "      <th>p2_streak</th>\n",
       "      <th>p1_won</th>\n",
       "    </tr>\n",
       "  </thead>\n",
       "  <tbody>\n",
       "    <tr>\n",
       "      <th>0</th>\n",
       "      <td>1.0</td>\n",
       "      <td>0.555556</td>\n",
       "      <td>0.0</td>\n",
       "      <td>0.810148</td>\n",
       "      <td>0.906404</td>\n",
       "      <td>0.625551</td>\n",
       "      <td>-0.357143</td>\n",
       "      <td>1.0</td>\n",
       "      <td>0.833333</td>\n",
       "      <td>0.0</td>\n",
       "      <td>0.915035</td>\n",
       "      <td>0.866995</td>\n",
       "      <td>0.599119</td>\n",
       "      <td>-0.071429</td>\n",
       "      <td>1.0</td>\n",
       "    </tr>\n",
       "    <tr>\n",
       "      <th>1</th>\n",
       "      <td>1.0</td>\n",
       "      <td>0.722222</td>\n",
       "      <td>1.0</td>\n",
       "      <td>0.872127</td>\n",
       "      <td>0.866995</td>\n",
       "      <td>0.585903</td>\n",
       "      <td>-0.071429</td>\n",
       "      <td>1.0</td>\n",
       "      <td>0.388889</td>\n",
       "      <td>1.0</td>\n",
       "      <td>0.894773</td>\n",
       "      <td>0.857143</td>\n",
       "      <td>0.647577</td>\n",
       "      <td>-0.071429</td>\n",
       "      <td>0.0</td>\n",
       "    </tr>\n",
       "    <tr>\n",
       "      <th>2</th>\n",
       "      <td>1.0</td>\n",
       "      <td>0.388889</td>\n",
       "      <td>0.0</td>\n",
       "      <td>0.873829</td>\n",
       "      <td>0.871921</td>\n",
       "      <td>0.704846</td>\n",
       "      <td>-0.071429</td>\n",
       "      <td>1.0</td>\n",
       "      <td>0.666667</td>\n",
       "      <td>1.0</td>\n",
       "      <td>0.796526</td>\n",
       "      <td>0.891626</td>\n",
       "      <td>0.555066</td>\n",
       "      <td>-0.214286</td>\n",
       "      <td>0.0</td>\n",
       "    </tr>\n",
       "    <tr>\n",
       "      <th>3</th>\n",
       "      <td>1.0</td>\n",
       "      <td>0.222222</td>\n",
       "      <td>1.0</td>\n",
       "      <td>1.000000</td>\n",
       "      <td>0.926108</td>\n",
       "      <td>0.687225</td>\n",
       "      <td>-0.357143</td>\n",
       "      <td>1.0</td>\n",
       "      <td>0.277778</td>\n",
       "      <td>0.0</td>\n",
       "      <td>0.879619</td>\n",
       "      <td>0.901478</td>\n",
       "      <td>0.665198</td>\n",
       "      <td>-0.357143</td>\n",
       "      <td>0.0</td>\n",
       "    </tr>\n",
       "    <tr>\n",
       "      <th>4</th>\n",
       "      <td>1.0</td>\n",
       "      <td>0.222222</td>\n",
       "      <td>1.0</td>\n",
       "      <td>0.805721</td>\n",
       "      <td>0.931034</td>\n",
       "      <td>0.590308</td>\n",
       "      <td>0.000000</td>\n",
       "      <td>1.0</td>\n",
       "      <td>0.388889</td>\n",
       "      <td>1.0</td>\n",
       "      <td>0.837221</td>\n",
       "      <td>0.935961</td>\n",
       "      <td>0.766520</td>\n",
       "      <td>0.000000</td>\n",
       "      <td>1.0</td>\n",
       "    </tr>\n",
       "  </tbody>\n",
       "</table>\n",
       "</div>"
      ],
      "text/plain": [
       "   p1_division  p1_rank_in_division  p1_eside    p1_age  p1_height  p1_weight  \\\n",
       "0          1.0             0.555556       0.0  0.810148   0.906404   0.625551   \n",
       "1          1.0             0.722222       1.0  0.872127   0.866995   0.585903   \n",
       "2          1.0             0.388889       0.0  0.873829   0.871921   0.704846   \n",
       "3          1.0             0.222222       1.0  1.000000   0.926108   0.687225   \n",
       "4          1.0             0.222222       1.0  0.805721   0.931034   0.590308   \n",
       "\n",
       "   p1_streak  p2_division  p2_rank_in_division  p2_eside    p2_age  p2_height  \\\n",
       "0  -0.357143          1.0             0.833333       0.0  0.915035   0.866995   \n",
       "1  -0.071429          1.0             0.388889       1.0  0.894773   0.857143   \n",
       "2  -0.071429          1.0             0.666667       1.0  0.796526   0.891626   \n",
       "3  -0.357143          1.0             0.277778       0.0  0.879619   0.901478   \n",
       "4   0.000000          1.0             0.388889       1.0  0.837221   0.935961   \n",
       "\n",
       "   p2_weight  p2_streak  p1_won  \n",
       "0   0.599119  -0.071429     1.0  \n",
       "1   0.647577  -0.071429     0.0  \n",
       "2   0.555066  -0.214286     0.0  \n",
       "3   0.665198  -0.357143     0.0  \n",
       "4   0.766520   0.000000     1.0  "
      ]
     },
     "execution_count": 14,
     "metadata": {},
     "output_type": "execute_result"
    }
   ],
   "source": [
    "df_norm = df.div(df_max_values, axis=1)\n",
    "df_norm.head()\n"
   ]
  },
  {
   "cell_type": "markdown",
   "id": "c2cc32fa",
   "metadata": {},
   "source": [
    "### Split into Train Test Sets \n",
    "Use a 80%-20% split.\n",
    "\n",
    "The datasets are almost perfectly balanced as can be seen in the below plots."
   ]
  },
  {
   "cell_type": "code",
   "execution_count": 15,
   "id": "736a5ed2",
   "metadata": {},
   "outputs": [],
   "source": [
    "from sklearn.model_selection import train_test_split\n"
   ]
  },
  {
   "cell_type": "code",
   "execution_count": 16,
   "id": "dbabdbd0",
   "metadata": {},
   "outputs": [
    {
     "name": "stdout",
     "output_type": "stream",
     "text": [
      "Number of rows in the train data = 7100\n",
      "Number of rows in the test data = 1775\n"
     ]
    }
   ],
   "source": [
    "df_train, df_test = train_test_split(df_norm, test_size=0.2, random_state=42)\n",
    "\n",
    "print('Number of rows in the train data = {}'.format(df_train.shape[0]))\n",
    "print('Number of rows in the test data = {}'.format(df_test.shape[0]))\n"
   ]
  },
  {
   "cell_type": "code",
   "execution_count": 17,
   "id": "1acf1240",
   "metadata": {},
   "outputs": [
    {
     "data": {
      "text/plain": [
       "[]"
      ]
     },
     "execution_count": 17,
     "metadata": {},
     "output_type": "execute_result"
    },
    {
     "data": {
      "image/png": "[encoded data removed]",
      "text/plain": [
       "<Figure size 640x480 with 1 Axes>"
      ]
     },
     "metadata": {},
     "output_type": "display_data"
    }
   ],
   "source": [
    "# plot train data labels\n",
    "sns.countplot(x=df_train['p1_won'])\n",
    "plt.title('Number of Class Labels in Train Data')\n",
    "plt.plot()\n"
   ]
  },
  {
   "cell_type": "code",
   "execution_count": 18,
   "id": "6297aa2c",
   "metadata": {},
   "outputs": [
    {
     "data": {
      "text/plain": [
       "[]"
      ]
     },
     "execution_count": 18,
     "metadata": {},
     "output_type": "execute_result"
    },
    {
     "data": {
      "image/png": "[encoded data removed]",
      "text/plain": [
       "<Figure size 640x480 with 1 Axes>"
      ]
     },
     "metadata": {},
     "output_type": "display_data"
    }
   ],
   "source": [
    "# plot test data labels\n",
    "sns.countplot(x=df_test['p1_won'])\n",
    "plt.title('Number of Class Labels in Test Data')\n",
    "plt.plot()\n"
   ]
  },
  {
   "cell_type": "markdown",
   "id": "5b2f70b1",
   "metadata": {},
   "source": [
    "## Baseline Model\n",
    "\n",
    "Make predictions based on the rank of the player only! Measure accuracy using this model.\n",
    "\n",
    "**Strategy**: *The higher ranked wrestler always wins!*"
   ]
  },
  {
   "cell_type": "code",
   "execution_count": 19,
   "id": "5f4d864d",
   "metadata": {},
   "outputs": [],
   "source": [
    "from sklearn.model_selection import cross_validate, cross_val_predict, cross_val_score\n",
    "from sklearn.metrics import make_scorer, precision_score, recall_score\n",
    "from sklearn.metrics import f1_score, accuracy_score, confusion_matrix"
   ]
  },
  {
   "cell_type": "code",
   "execution_count": 20,
   "id": "38f78a76",
   "metadata": {},
   "outputs": [],
   "source": [
    "def compare_ranks(division1, rank1, eside1, \n",
    "                 division2, rank2, eside2):\n",
    "    '''\n",
    "    if the player1 has higher rank than player2 return True\n",
    "    else return False\n",
    "    '''\n",
    "    if division1 < division2:\n",
    "        return True\n",
    "    \n",
    "    if division2 < division1:\n",
    "        return False\n",
    "    \n",
    "    # if same division\n",
    "    if rank1 < rank2:\n",
    "        return True\n",
    "    \n",
    "    if rank2 < rank1:\n",
    "        return False\n",
    "    \n",
    "    # if same rank as well\n",
    "    # side 'e' is higher ranked than 'w'\n",
    "    return (eside1 > eside2)\n"
   ]
  },
  {
   "cell_type": "code",
   "execution_count": 21,
   "id": "1438217d",
   "metadata": {},
   "outputs": [
    {
     "name": "stdout",
     "output_type": "stream",
     "text": [
      "Baseline Train set Accuracy = 57.873%\n"
     ]
    }
   ],
   "source": [
    "# Measure Train set Accuracy\n",
    "correct, total = 0, 0\n",
    "\n",
    "for idx, row in df_train.iterrows():\n",
    "    prediction = compare_ranks(row['p1_division'],\n",
    "                               row['p1_rank_in_division'],\n",
    "                               row['p1_eside'],\n",
    "                               row['p2_division'],\n",
    "                               row['p2_rank_in_division'],\n",
    "                               row['p2_eside']\n",
    "                              )\n",
    "    \n",
    "    actual = row['p1_won']\n",
    "    \n",
    "    if prediction == actual:\n",
    "        correct += 1\n",
    "    \n",
    "    total += 1\n",
    "\n",
    "baseline_acc_train = correct/total\n",
    "print(\"Baseline Train set Accuracy = %.3f%%\" % (baseline_acc_train*100))\n"
   ]
  },
  {
   "cell_type": "code",
   "execution_count": 22,
   "id": "0b9c26f8",
   "metadata": {},
   "outputs": [
    {
     "name": "stdout",
     "output_type": "stream",
     "text": [
      "Baseline Test set Accuracy = 56.394%\n"
     ]
    }
   ],
   "source": [
    "# Measure Test set Accuracy\n",
    "correct, total = 0, 0\n",
    "\n",
    "for idx, row in df_test.iterrows():\n",
    "    prediction = compare_ranks(row['p1_division'],\n",
    "                               row['p1_rank_in_division'],\n",
    "                               row['p1_eside'],\n",
    "                               row['p2_division'],\n",
    "                               row['p2_rank_in_division'],\n",
    "                               row['p2_eside']\n",
    "                              )\n",
    "    \n",
    "    actual = row['p1_won']\n",
    "    \n",
    "    if prediction == actual:\n",
    "        correct += 1\n",
    "    \n",
    "    total += 1\n",
    "\n",
    "baseline_acc_test = correct/total\n",
    "print(\"Baseline Test set Accuracy = %.3f%%\" % (baseline_acc_test*100))\n"
   ]
  },
  {
   "cell_type": "markdown",
   "id": "0020e3bf",
   "metadata": {},
   "source": [
    "## Logistic Regression Model\n",
    "\n",
    "Train a logistic regression model"
   ]
  },
  {
   "cell_type": "code",
   "execution_count": 23,
   "id": "44b70056",
   "metadata": {},
   "outputs": [],
   "source": [
    "from sklearn.linear_model import LogisticRegression\n"
   ]
  },
  {
   "cell_type": "code",
   "execution_count": 24,
   "id": "714392ab",
   "metadata": {},
   "outputs": [
    {
     "data": {
      "text/plain": [
       "LogisticRegression(max_iter=500, random_state=0)"
      ]
     },
     "execution_count": 24,
     "metadata": {},
     "output_type": "execute_result"
    }
   ],
   "source": [
    "# split into features & labels\n",
    "X_train = df_train.iloc[:, :-1] # select all columns except the last one\n",
    "y_train = df_train.iloc[:, -1]  # select the last column\n",
    "\n",
    "\n",
    "# train the classifier using the full training data\n",
    "log_clf = LogisticRegression(random_state=0, max_iter=500)\n",
    "log_clf.fit(X_train, y_train)\n"
   ]
  },
  {
   "cell_type": "code",
   "execution_count": 25,
   "id": "cf0d7fef",
   "metadata": {},
   "outputs": [
    {
     "name": "stdout",
     "output_type": "stream",
     "text": [
      "Logistic Regression Accuracy on the Train data:  = 59.52%\n"
     ]
    }
   ],
   "source": [
    "# measure accuracy of the train set\n",
    "predictions = log_clf.predict(X_train)\n",
    "log_acc_train = sum(predictions == y_train)/len(predictions)\n",
    "print(\"Logistic Regression Accuracy on the Train data:  = %.2f%%\" % (log_acc_train*100))\n"
   ]
  },
  {
   "cell_type": "code",
   "execution_count": 26,
   "id": "7f041b97",
   "metadata": {},
   "outputs": [
    {
     "name": "stdout",
     "output_type": "stream",
     "text": [
      "Logistic Regression Accuracy on the Test se = 58.65%\n"
     ]
    }
   ],
   "source": [
    "# make predictions on the test set\n",
    "X_test = df_test.iloc[:, :-1] # select all columns except the last one\n",
    "y_test = df_test.iloc[:, -1]  # select the last column\n",
    "\n",
    "# measure accuracy of the test set\n",
    "predictions = log_clf.predict(X_test)\n",
    "log_acc_test = sum(predictions == y_test)/len(predictions)\n",
    "print(\"Logistic Regression Accuracy on the Test se = %.2f%%\" % (log_acc_test*100))\n"
   ]
  },
  {
   "cell_type": "markdown",
   "id": "5a08f778",
   "metadata": {},
   "source": [
    "### 10-fold Cross Validation\n",
    "We will perform a 10-fold cross validation using the full data."
   ]
  },
  {
   "cell_type": "code",
   "execution_count": 27,
   "id": "0ebc1607",
   "metadata": {},
   "outputs": [],
   "source": [
    "# split into features & labels\n",
    "X = df_norm.iloc[:, :-1] # select all columns except the last one\n",
    "y = df_norm.iloc[:, -1]  # select the last column\n",
    "\n"
   ]
  },
  {
   "cell_type": "code",
   "execution_count": 28,
   "id": "80d6d089",
   "metadata": {},
   "outputs": [
    {
     "name": "stdout",
     "output_type": "stream",
     "text": [
      "Accuracy: 0.594\n",
      "Precision: 0.593\n",
      "Recall: 0.604\n",
      "F1-score: 0.598\n"
     ]
    }
   ],
   "source": [
    "log_clf = LogisticRegression(random_state=0, max_iter=2000)\n",
    "\n",
    "\n",
    "# We need the following metrics: \n",
    "# 1. Accuracy\n",
    "# 2. Precision\n",
    "# 3. Recall\n",
    "# 4. F1 measure\n",
    "my_scorers = {\n",
    "    'accuracy': make_scorer(accuracy_score),\n",
    "    'precision': make_scorer(precision_score),\n",
    "    'recall': make_scorer(recall_score),\n",
    "    'f1_score': make_scorer(f1_score)\n",
    "}\n",
    "\n",
    "# Perform cross-validation and compute metrics\n",
    "cv_results = cross_validate(log_clf, X, y, cv=10, scoring=my_scorers)\n",
    "\n",
    "# Extract the individual metric scores from cross-validation results\n",
    "accuracies = cv_results['test_accuracy']\n",
    "precisions = cv_results['test_precision']\n",
    "recalls = cv_results['test_recall']\n",
    "fscores = cv_results['test_f1_score']\n",
    "\n",
    "# We have 10 scores for the 10 folds; take the mean\n",
    "log_accuracy = np.mean(accuracies)\n",
    "log_precision = np.mean(precisions)\n",
    "log_recall = np.mean(recalls)\n",
    "log_fscore = np.mean(fscores)\n",
    "\n",
    "print(\"Accuracy:\", np.round(log_accuracy, 3))\n",
    "print(\"Precision:\", np.round(log_precision, 3))\n",
    "print(\"Recall:\", np.round(log_recall, 3))\n",
    "print(\"F1-score:\", np.round(log_fscore, 3))\n",
    "\n",
    "\n"
   ]
  },
  {
   "cell_type": "code",
   "execution_count": 29,
   "id": "b8860d7a",
   "metadata": {},
   "outputs": [
    {
     "data": {
      "image/png": "[encoded data removed]",
      "text/plain": [
       "<Figure size 600x600 with 2 Axes>"
      ]
     },
     "metadata": {},
     "output_type": "display_data"
    }
   ],
   "source": [
    "predictions = cross_val_predict(log_clf, X, y, cv=10)\n",
    "\n",
    "# Confusion matrix\n",
    "cm = confusion_matrix(y, predictions)\n",
    "\n",
    "# Plot the confusion matrix using seaborn heatmap\n",
    "plt.figure(figsize=(6, 6))\n",
    "sns.heatmap(cm, annot=True, fmt='d', cmap='viridis', cbar=True)\n",
    "plt.xlabel('Predicted Labels')\n",
    "plt.ylabel('True Labels')\n",
    "plt.title('Logistic Regression Confusion Matrix')\n",
    "plt.show()"
   ]
  },
  {
   "cell_type": "markdown",
   "id": "64537617",
   "metadata": {},
   "source": [
    "## Feature Importance\n",
    "Let's find out which features are more important"
   ]
  },
  {
   "cell_type": "code",
   "execution_count": 30,
   "id": "a57b049b",
   "metadata": {},
   "outputs": [],
   "source": [
    "import statsmodels.formula.api as smf"
   ]
  },
  {
   "cell_type": "code",
   "execution_count": 31,
   "id": "02e0ac72",
   "metadata": {},
   "outputs": [
    {
     "name": "stdout",
     "output_type": "stream",
     "text": [
      "Optimization terminated successfully.\n",
      "         Current function value: 0.662889\n",
      "         Iterations 5\n"
     ]
    }
   ],
   "source": [
    "independent_vars = \"+\".join(df_train.columns.difference([\"p1_won\"]))\n",
    "formula = \"p1_won ~ \" + independent_vars\n",
    "log_reg = smf.logit(formula, data=df_train).fit()"
   ]
  },
  {
   "cell_type": "code",
   "execution_count": 32,
   "id": "74067441",
   "metadata": {},
   "outputs": [
    {
     "name": "stdout",
     "output_type": "stream",
     "text": [
      "                           Logit Regression Results                           \n",
      "==============================================================================\n",
      "Dep. Variable:                 p1_won   No. Observations:                 7100\n",
      "Model:                          Logit   Df Residuals:                     7085\n",
      "Method:                           MLE   Df Model:                           14\n",
      "Date:                Thu, 24 Aug 2023   Pseudo R-squ.:                 0.04362\n",
      "Time:                        07:36:03   Log-Likelihood:                -4706.5\n",
      "converged:                       True   LL-Null:                       -4921.2\n",
      "Covariance Type:            nonrobust   LLR p-value:                 8.313e-83\n",
      "=======================================================================================\n",
      "                          coef    std err          z      P>|z|      [0.025      0.975]\n",
      "---------------------------------------------------------------------------------------\n",
      "Intercept               0.1613      1.109      0.145      0.884      -2.012       2.334\n",
      "p1_age                 -1.5152      0.292     -5.192      0.000      -2.087      -0.943\n",
      "p1_division            -1.0944      0.139     -7.856      0.000      -1.367      -0.821\n",
      "p1_eside               -0.0222      0.049     -0.451      0.652      -0.119       0.074\n",
      "p1_height               0.9358      0.927      1.009      0.313      -0.882       2.753\n",
      "p1_rank_in_division    -1.0346      0.146     -7.074      0.000      -1.321      -0.748\n",
      "p1_streak               0.7049      0.121      5.803      0.000       0.467       0.943\n",
      "p1_weight              -0.1420      0.337     -0.421      0.674      -0.803       0.519\n",
      "p2_age                  1.5032      0.295      5.092      0.000       0.925       2.082\n",
      "p2_division             0.8406      0.138      6.097      0.000       0.570       1.111\n",
      "p2_eside               -0.0913      0.049     -1.856      0.063      -0.188       0.005\n",
      "p2_height              -0.7239      0.920     -0.787      0.431      -2.527       1.079\n",
      "p2_rank_in_division     1.1254      0.148      7.614      0.000       0.836       1.415\n",
      "p2_streak              -1.1336      0.124     -9.113      0.000      -1.377      -0.890\n",
      "p2_weight               0.0071      0.332      0.021      0.983      -0.644       0.658\n",
      "=======================================================================================\n"
     ]
    }
   ],
   "source": [
    "# Summary of results\n",
    "print(log_reg.summary())\n"
   ]
  },
  {
   "cell_type": "markdown",
   "id": "10e9b7e0",
   "metadata": {},
   "source": [
    "## Decision Tree Model"
   ]
  },
  {
   "cell_type": "code",
   "execution_count": 33,
   "id": "522e297a",
   "metadata": {},
   "outputs": [],
   "source": [
    "from sklearn.tree import DecisionTreeClassifier"
   ]
  },
  {
   "cell_type": "code",
   "execution_count": 34,
   "id": "0976dee2",
   "metadata": {},
   "outputs": [
    {
     "data": {
      "text/plain": [
       "DecisionTreeClassifier(max_depth=2, random_state=0)"
      ]
     },
     "execution_count": 34,
     "metadata": {},
     "output_type": "execute_result"
    }
   ],
   "source": [
    "DT_clf = DecisionTreeClassifier(random_state=0, max_depth=2)\n",
    "DT_clf.fit(X_train, y_train)"
   ]
  },
  {
   "cell_type": "code",
   "execution_count": 35,
   "id": "25511dea",
   "metadata": {},
   "outputs": [
    {
     "name": "stdout",
     "output_type": "stream",
     "text": [
      "Decision Tree Accuracy on the Train data = 55.08%\n"
     ]
    }
   ],
   "source": [
    "# measure accuracy of the train set\n",
    "predictions = DT_clf.predict(X_train)\n",
    "dt_acc_train = sum(predictions == y_train)/len(predictions)\n",
    "print(\"Decision Tree Accuracy on the Train data = %.2f%%\" % (dt_acc_train*100))\n"
   ]
  },
  {
   "cell_type": "code",
   "execution_count": 36,
   "id": "b44da7a8",
   "metadata": {},
   "outputs": [
    {
     "name": "stdout",
     "output_type": "stream",
     "text": [
      "Decision Tree: Test set Accuracy = 53.690%\n"
     ]
    }
   ],
   "source": [
    "# measure accuracy of the test set\n",
    "predictions = DT_clf.predict(X_test)\n",
    "dt_acc_test = sum(predictions == y_test)/len(predictions)\n",
    "print(\"Decision Tree: Test set Accuracy = %.3f%%\" % (dt_acc_test*100))\n"
   ]
  },
  {
   "cell_type": "markdown",
   "id": "a9ab8a35",
   "metadata": {},
   "source": [
    "### 10-fold Cross Validation\n",
    "We will perform a 10-fold cross validation using the full data."
   ]
  },
  {
   "cell_type": "code",
   "execution_count": 37,
   "id": "b287fcbd",
   "metadata": {},
   "outputs": [
    {
     "name": "stdout",
     "output_type": "stream",
     "text": [
      "Accuracy: 0.55\n",
      "Precision: 0.546\n",
      "Recall: 0.589\n",
      "F1-score: 0.566\n"
     ]
    }
   ],
   "source": [
    "# Perform cross-validation and compute metrics\n",
    "DT_clf = DecisionTreeClassifier(random_state=0, max_depth=10)\n",
    "cv_results = cross_validate(DT_clf, X, y, cv=10, scoring=my_scorers)\n",
    "\n",
    "# Extract the individual metric scores from cross-validation results\n",
    "accuracies = cv_results['test_accuracy']\n",
    "precisions = cv_results['test_precision']\n",
    "recalls = cv_results['test_recall']\n",
    "fscores = cv_results['test_f1_score']\n",
    "\n",
    "# We have 10 scores for the 10 folds; take the mean\n",
    "DT_accuracy = np.mean(accuracies)\n",
    "DT_precision = np.mean(precisions)\n",
    "DT_recall = np.mean(recalls)\n",
    "DT_fscore = np.mean(fscores)\n",
    "\n",
    "print(\"Accuracy:\", np.round(DT_accuracy, 3))\n",
    "print(\"Precision:\", np.round(DT_precision, 3))\n",
    "print(\"Recall:\", np.round(DT_recall, 3))\n",
    "print(\"F1-score:\", np.round(DT_fscore, 3))\n"
   ]
  },
  {
   "cell_type": "markdown",
   "id": "004b6618",
   "metadata": {},
   "source": [
    "### Hyper-parameter Tuning\n",
    "We can tune for the hyper parameter, `max_depth`. That mean, we find the value of max_depth that gives the best cross validation f1 score."
   ]
  },
  {
   "cell_type": "code",
   "execution_count": 38,
   "id": "9ccf136b",
   "metadata": {},
   "outputs": [
    {
     "name": "stdout",
     "output_type": "stream",
     "text": [
      "Depth = 2, f1-score = 0.42\n",
      "Depth = 4, f1-score = 0.62\n",
      "Depth = 6, f1-score = 0.56\n",
      "Depth = 8, f1-score = 0.57\n",
      "Depth = 10, f1-score = 0.57\n",
      "Depth = 12, f1-score = 0.55\n",
      "Depth = 14, f1-score = 0.54\n",
      "\n",
      "Best depth value = 4\n",
      "\n"
     ]
    }
   ],
   "source": [
    "max_depth_options = [2, 4, 6, 8, 10, 12, 14]\n",
    "best_f1 = 0\n",
    "best_depth = 0\n",
    "for depth in max_depth_options:\n",
    "    # Perform cross-validation and compute metrics\n",
    "    DT_clf = DecisionTreeClassifier(random_state=0, max_depth=depth)\n",
    "    cv_results = cross_validate(DT_clf, X, y, cv=10, scoring=my_scorers)\n",
    "    \n",
    "    # evaluate performance\n",
    "    f1_score = np.mean(cv_results['test_f1_score'])\n",
    "    print(\"Depth = %d, f1-score = %.2f\"%(depth, f1_score))\n",
    "    \n",
    "    if f1_score > best_f1:\n",
    "        best_f1 = f1_score\n",
    "        best_depth = depth\n",
    "        \n",
    "print(\"\\nBest depth value = %d\\n\"%(best_depth))\n"
   ]
  },
  {
   "cell_type": "code",
   "execution_count": 39,
   "id": "6227dc49",
   "metadata": {},
   "outputs": [
    {
     "data": {
      "image/png": "[encoded data removed]",
      "text/plain": [
       "<Figure size 600x600 with 2 Axes>"
      ]
     },
     "metadata": {},
     "output_type": "display_data"
    }
   ],
   "source": [
    "# Use the best \n",
    "DT_clf = DecisionTreeClassifier(random_state=0, max_depth=best_depth)\n",
    "predictions = cross_val_predict(DT_clf, X, y, cv=10)\n",
    "\n",
    "# Compute the confusion matrix\n",
    "cm = confusion_matrix(y, predictions)\n",
    "\n",
    "# Plot the confusion matrix using seaborn heatmap\n",
    "plt.figure(figsize=(6, 6))\n",
    "sns.heatmap(cm, annot=True, fmt='d', cmap='viridis', cbar=True)\n",
    "plt.xlabel('Predicted Labels')\n",
    "plt.ylabel('Actual Labels')\n",
    "plt.title('Decisoin Tree Confusion Matrix')\n",
    "plt.show()"
   ]
  },
  {
   "cell_type": "markdown",
   "id": "f7f4bc13",
   "metadata": {},
   "source": [
    "## Random Forest Model"
   ]
  },
  {
   "cell_type": "code",
   "execution_count": 40,
   "id": "f2567958",
   "metadata": {},
   "outputs": [],
   "source": [
    "from sklearn.ensemble import RandomForestClassifier\n"
   ]
  },
  {
   "cell_type": "code",
   "execution_count": 41,
   "id": "f7326834",
   "metadata": {},
   "outputs": [
    {
     "data": {
      "text/plain": [
       "RandomForestClassifier(max_depth=2, random_state=0)"
      ]
     },
     "execution_count": 41,
     "metadata": {},
     "output_type": "execute_result"
    }
   ],
   "source": [
    "RF_clf = RandomForestClassifier(max_depth=2, random_state=0)\n",
    "RF_clf.fit(X_train, y_train)\n"
   ]
  },
  {
   "cell_type": "code",
   "execution_count": 42,
   "id": "09500385",
   "metadata": {},
   "outputs": [
    {
     "name": "stdout",
     "output_type": "stream",
     "text": [
      "Random Forest Accuracy on the Train data = 57.76%\n"
     ]
    }
   ],
   "source": [
    "# measure accuracy of the train set\n",
    "predictions = RF_clf.predict(X_train)\n",
    "rf_acc_train = sum(predictions == y_train)/len(predictions)\n",
    "print(\"Random Forest Accuracy on the Train data = %.2f%%\" % (rf_acc_train*100))\n"
   ]
  },
  {
   "cell_type": "code",
   "execution_count": 43,
   "id": "2daa142a",
   "metadata": {},
   "outputs": [
    {
     "name": "stdout",
     "output_type": "stream",
     "text": [
      "Random Forest Accuracy on the Test data = 56.45%\n"
     ]
    }
   ],
   "source": [
    "# measure accuracy of the test set\n",
    "predictions = RF_clf.predict(X_test)\n",
    "rf_acc_test = sum(predictions == y_test)/len(predictions)\n",
    "print(\"Random Forest Accuracy on the Test data = %.2f%%\" % (rf_acc_test*100))\n"
   ]
  },
  {
   "cell_type": "markdown",
   "id": "c7a95762",
   "metadata": {},
   "source": [
    "### 10-fold Cross Validation\n",
    "We will perform a 10-fold cross validation using the full data."
   ]
  },
  {
   "cell_type": "code",
   "execution_count": 44,
   "id": "385a41db",
   "metadata": {},
   "outputs": [
    {
     "name": "stdout",
     "output_type": "stream",
     "text": [
      "Accuracy: 0.572\n",
      "Precision: 0.566\n",
      "Recall: 0.637\n",
      "F1-score: 0.597\n"
     ]
    }
   ],
   "source": [
    "# Perform cross-validation and compute metrics\n",
    "RF_clf = RandomForestClassifier(max_depth=2, random_state=0)\n",
    "cv_results = cross_validate(RF_clf, X, y, cv=10, scoring=my_scorers)\n",
    "\n",
    "# Extract the individual metric scores from cross-validation results\n",
    "accuracies = cv_results['test_accuracy']\n",
    "precisions = cv_results['test_precision']\n",
    "recalls = cv_results['test_recall']\n",
    "fscores = cv_results['test_f1_score']\n",
    "\n",
    "# We have 10 scores for the 10 folds; take the mean\n",
    "RF_accuracy = np.mean(accuracies)\n",
    "RF_precision = np.mean(precisions)\n",
    "RF_recall = np.mean(recalls)\n",
    "RF_fscore = np.mean(fscores)\n",
    "\n",
    "print(\"Accuracy:\", np.round(RF_accuracy, 3))\n",
    "print(\"Precision:\", np.round(RF_precision, 3))\n",
    "print(\"Recall:\", np.round(RF_recall, 3))\n",
    "print(\"F1-score:\", np.round(RF_fscore, 3))\n"
   ]
  },
  {
   "cell_type": "markdown",
   "id": "0cc437f7",
   "metadata": {},
   "source": [
    "### Hyper-parameter Tuning\n",
    "We can tune for the hyper parameter, `max_depth`. That mean, we find the value of max_depth that gives the best cross validation f1 score."
   ]
  },
  {
   "cell_type": "code",
   "execution_count": 45,
   "id": "68cfc113",
   "metadata": {},
   "outputs": [
    {
     "name": "stdout",
     "output_type": "stream",
     "text": [
      "Depth = 2, f1-score = 0.60\n",
      "Depth = 4, f1-score = 0.60\n",
      "Depth = 6, f1-score = 0.60\n",
      "Depth = 8, f1-score = 0.59\n",
      "Depth = 10, f1-score = 0.60\n",
      "Depth = 12, f1-score = 0.59\n",
      "Depth = 14, f1-score = 0.58\n",
      "\n",
      "Best depth value = 6\n",
      "\n"
     ]
    }
   ],
   "source": [
    "max_depth_options = [2, 4, 6, 8, 10, 12, 14]\n",
    "best_f1 = 0\n",
    "best_depth = 0\n",
    "for depth in max_depth_options:\n",
    "    # Perform cross-validation and compute metrics\n",
    "    RF_clf = RandomForestClassifier(random_state=0, max_depth=depth)\n",
    "    cv_results = cross_validate(RF_clf, X, y, cv=10, scoring=my_scorers)\n",
    "    \n",
    "    # evaluate performance\n",
    "    f1_score = np.mean(cv_results['test_f1_score'])\n",
    "    print(\"Depth = %d, f1-score = %.2f\"%(depth, f1_score))\n",
    "    \n",
    "    if f1_score > best_f1:\n",
    "        best_f1 = f1_score\n",
    "        best_depth = depth\n",
    "        \n",
    "print(\"\\nBest depth value = %d\\n\"%(best_depth))\n"
   ]
  },
  {
   "cell_type": "code",
   "execution_count": 46,
   "id": "3670f89b",
   "metadata": {},
   "outputs": [
    {
     "data": {
      "image/png": "[encoded data removed]",
      "text/plain": [
       "<Figure size 600x600 with 2 Axes>"
      ]
     },
     "metadata": {},
     "output_type": "display_data"
    }
   ],
   "source": [
    "# Use the best \n",
    "RF_clf = RandomForestClassifier(random_state=0, max_depth=best_depth)\n",
    "predictions = cross_val_predict(RF_clf, X, y, cv=10)\n",
    "\n",
    "# Compute the confusion matrix\n",
    "cm = confusion_matrix(y, predictions)\n",
    "\n",
    "# Plot the confusion matrix using seaborn heatmap\n",
    "plt.figure(figsize=(6, 6))\n",
    "sns.heatmap(cm, annot=True, fmt='d', cmap='viridis', cbar=True)\n",
    "plt.xlabel('Predicted Labels')\n",
    "plt.ylabel('Actual Labels')\n",
    "plt.title('Random Forest Confusion Matrix')\n",
    "plt.show()"
   ]
  },
  {
   "cell_type": "markdown",
   "id": "cafd7632",
   "metadata": {},
   "source": [
    "## kNN Classifier"
   ]
  },
  {
   "cell_type": "code",
   "execution_count": 47,
   "id": "f648af8c",
   "metadata": {},
   "outputs": [],
   "source": [
    "from sklearn.neighbors import KNeighborsClassifier\n"
   ]
  },
  {
   "cell_type": "code",
   "execution_count": 48,
   "id": "82628e58",
   "metadata": {},
   "outputs": [
    {
     "data": {
      "text/plain": [
       "KNeighborsClassifier(n_neighbors=13)"
      ]
     },
     "execution_count": 48,
     "metadata": {},
     "output_type": "execute_result"
    }
   ],
   "source": [
    "knn_clf = KNeighborsClassifier(n_neighbors=13)\n",
    "knn_clf.fit(X_train, y_train)\n"
   ]
  },
  {
   "cell_type": "code",
   "execution_count": 49,
   "id": "55396855",
   "metadata": {},
   "outputs": [
    {
     "name": "stdout",
     "output_type": "stream",
     "text": [
      "kNN Accuracy on the Train data = 65.41%\n"
     ]
    }
   ],
   "source": [
    "# measure accuracy of the train set\n",
    "predictions = knn_clf.predict(X_train)\n",
    "knn_acc_train = sum(predictions == y_train)/len(predictions)\n",
    "print(\"kNN Accuracy on the Train data = %.2f%%\" % (knn_acc_train*100))\n"
   ]
  },
  {
   "cell_type": "code",
   "execution_count": 50,
   "id": "da3a591b",
   "metadata": {},
   "outputs": [
    {
     "name": "stdout",
     "output_type": "stream",
     "text": [
      "kNN Accuracy on the Test data = 55.77%\n"
     ]
    }
   ],
   "source": [
    "# measure accuracy of the test set\n",
    "predictions = knn_clf.predict(X_test)\n",
    "knn_acc_test = sum(predictions == y_test)/len(predictions)\n",
    "print(\"kNN Accuracy on the Test data = %.2f%%\" % (knn_acc_test*100))\n"
   ]
  },
  {
   "cell_type": "markdown",
   "id": "ad7c1ca4",
   "metadata": {},
   "source": [
    "### 10-fold Cross Validation\n",
    "We will perform a 10-fold cross validation using the full data."
   ]
  },
  {
   "cell_type": "code",
   "execution_count": 51,
   "id": "4d64c898",
   "metadata": {},
   "outputs": [
    {
     "name": "stdout",
     "output_type": "stream",
     "text": [
      "Accuracy: 0.535\n",
      "Precision: 0.535\n",
      "Recall: 0.53\n",
      "F1-score: 0.532\n"
     ]
    }
   ],
   "source": [
    "# Perform cross-validation and compute metrics\n",
    "knn_clf = KNeighborsClassifier(n_neighbors=3)\n",
    "cv_results = cross_validate(knn_clf, X, y, cv=10, scoring=my_scorers)\n",
    "\n",
    "# Extract the individual metric scores from cross-validation results\n",
    "accuracies = cv_results['test_accuracy']\n",
    "precisions = cv_results['test_precision']\n",
    "recalls = cv_results['test_recall']\n",
    "fscores = cv_results['test_f1_score']\n",
    "\n",
    "# We have 10 scores for the 10 folds; take the mean\n",
    "knn_accuracy = np.mean(accuracies)\n",
    "knn_precision = np.mean(precisions)\n",
    "knn_recall = np.mean(recalls)\n",
    "knn_fscore = np.mean(fscores)\n",
    "\n",
    "print(\"Accuracy:\", np.round(knn_accuracy, 3))\n",
    "print(\"Precision:\", np.round(knn_precision, 3))\n",
    "print(\"Recall:\", np.round(knn_recall, 3))\n",
    "print(\"F1-score:\", np.round(knn_fscore, 3))\n"
   ]
  },
  {
   "cell_type": "markdown",
   "id": "da11e22b",
   "metadata": {},
   "source": [
    "### Hyper-parameter Tuning\n",
    "We can tune for the hyper parameter, `max_depth`. That mean, we find the value of max_depth that gives the best cross validation f1 score."
   ]
  },
  {
   "cell_type": "code",
   "execution_count": 52,
   "id": "f5dce43f",
   "metadata": {},
   "outputs": [
    {
     "name": "stdout",
     "output_type": "stream",
     "text": [
      "K = 3, f1-score = 0.53\n",
      "K = 5, f1-score = 0.54\n",
      "K = 7, f1-score = 0.54\n",
      "K = 9, f1-score = 0.55\n",
      "K = 11, f1-score = 0.56\n",
      "K = 13, f1-score = 0.56\n",
      "K = 15, f1-score = 0.56\n",
      "\n",
      "Best k value = 15\n",
      "\n"
     ]
    }
   ],
   "source": [
    "k_options = [3, 5, 7, 9, 11, 13, 15]\n",
    "best_f1 = 0\n",
    "best_k = 0\n",
    "for k in k_options:\n",
    "    # Perform cross-validation and compute metrics\n",
    "    knn_clf = KNeighborsClassifier(n_neighbors=k)\n",
    "    cv_results = cross_validate(knn_clf, X, y, cv=10, scoring=my_scorers)\n",
    "    \n",
    "    # evaluate performance\n",
    "    f1_score = np.mean(cv_results['test_f1_score'])\n",
    "    print(\"K = %d, f1-score = %.2f\"%(k, f1_score))\n",
    "    \n",
    "    if f1_score > best_f1:\n",
    "        best_f1 = f1_score\n",
    "        best_k = k\n",
    "        \n",
    "print(\"\\nBest k value = %d\\n\"%(best_k))\n"
   ]
  },
  {
   "cell_type": "code",
   "execution_count": 53,
   "id": "f00c2ad7",
   "metadata": {},
   "outputs": [
    {
     "data": {
      "image/png": "[encoded data removed]",
      "text/plain": [
       "<Figure size 600x600 with 1 Axes>"
      ]
     },
     "metadata": {},
     "output_type": "display_data"
    }
   ],
   "source": [
    "# Use the best \n",
    "knn_clf = KNeighborsClassifier(n_neighbors=best_k)\n",
    "predictions = cross_val_predict(knn_clf, X, y, cv=10)\n",
    "\n",
    "# Compute the confusion matrix\n",
    "cm = confusion_matrix(y, predictions)\n",
    "\n",
    "# Plot the confusion matrix using seaborn heatmap\n",
    "plt.figure(figsize=(6, 6))\n",
    "sns.heatmap(cm, annot=True, fmt='d', cmap='viridis', cbar=False)\n",
    "plt.xlabel('Predicted Labels')\n",
    "plt.ylabel('Actual Labels')\n",
    "plt.title('kNN Confusion Matrix')\n",
    "plt.show()"
   ]
  },
  {
   "cell_type": "markdown",
   "id": "63eadf35",
   "metadata": {},
   "source": [
    "## Comparison of Classifiers\n",
    "Let's compare the Train, Test & Cross validation accuracies of different classifiers"
   ]
  },
  {
   "cell_type": "code",
   "execution_count": 54,
   "id": "80f5b300",
   "metadata": {},
   "outputs": [
    {
     "data": {
      "image/png": "[encoded data removed]",
      "text/plain": [
       "<Figure size 640x480 with 1 Axes>"
      ]
     },
     "metadata": {},
     "output_type": "display_data"
    }
   ],
   "source": [
    "names = ['Baseline', 'Logistic Regression', 'Decision Tree', 'Random Forest', 'kNN']\n",
    "values = [baseline_acc_train, log_acc_train, dt_acc_train, rf_acc_train, knn_acc_train]\n",
    "\n",
    "# Barplot\n",
    "sns.set_theme(style=\"whitegrid\")\n",
    "sns.barplot(x=names, y=values)\n",
    "\n",
    "# Set labels and title\n",
    "plt.xlabel('Classifiers')\n",
    "plt.ylabel('Accuracy')\n",
    "plt.title('Accuracy on Train Data')\n",
    "\n",
    "# Display the plot\n",
    "plt.show()"
   ]
  },
  {
   "cell_type": "code",
   "execution_count": 55,
   "id": "6531693c",
   "metadata": {},
   "outputs": [
    {
     "data": {
      "image/png": "[encoded data removed]",
      "text/plain": [
       "<Figure size 640x480 with 1 Axes>"
      ]
     },
     "metadata": {},
     "output_type": "display_data"
    }
   ],
   "source": [
    "names = ['Baseline', 'Logistic Regression', 'Decision Tree', 'Random Forest', 'kNN']\n",
    "values = [baseline_acc_test, log_acc_test, dt_acc_test, rf_acc_test, knn_acc_test]\n",
    "\n",
    "# Create a barplot using Seaborn\n",
    "sns.barplot(x=names, y=values)\n",
    "\n",
    "# Set labels and title\n",
    "plt.xlabel('Classifiers')\n",
    "plt.ylabel('Accuracy')\n",
    "plt.title('Accuracy on Test Data')\n",
    "\n",
    "# Display the plot\n",
    "plt.show()"
   ]
  },
  {
   "cell_type": "code",
   "execution_count": 56,
   "id": "4b090f17",
   "metadata": {},
   "outputs": [
    {
     "data": {
      "image/png": "[encoded data removed]",
      "text/plain": [
       "<Figure size 640x480 with 1 Axes>"
      ]
     },
     "metadata": {},
     "output_type": "display_data"
    }
   ],
   "source": [
    "# Comparison of CV results (F1 Score)\n",
    "names = ['Logistic Regression', 'Decision Tree', 'Random Forest', 'kNN']\n",
    "values = [log_fscore, DT_fscore, RF_fscore, knn_fscore]\n",
    "\n",
    "# Barplot\n",
    "sns.set_theme(style=\"whitegrid\")\n",
    "sns.barplot(x=names, y=values)\n",
    "\n",
    "# Set labels and title\n",
    "plt.xlabel('Classifiers')\n",
    "plt.ylabel('F1 score')\n",
    "plt.title('F1 Scores: Cross Validation Results')\n",
    "\n",
    "# Display the plot\n",
    "plt.show()\n"
   ]
  }
 ],
 "metadata": {
  "kernelspec": {
   "display_name": "Python 3 (ipykernel)",
   "language": "python",
   "name": "python3"
  },
  "language_info": {
   "codemirror_mode": {
    "name": "ipython",
    "version": 3
   },
   "file_extension": ".py",
   "mimetype": "text/x-python",
   "name": "python",
   "nbconvert_exporter": "python",
   "pygments_lexer": "ipython3",
   "version": "3.9.13"
  }
 },
 "nbformat": 4,
 "nbformat_minor": 5
}
